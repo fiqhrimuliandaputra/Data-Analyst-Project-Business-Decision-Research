{
  "nbformat": 4,
  "nbformat_minor": 0,
  "metadata": {
    "colab": {
      "name": "Data Analyst Project: Business Decision Research.ipynb",
      "provenance": [],
      "collapsed_sections": [],
      "authorship_tag": "ABX9TyNsBNmQUWyTMHptW4Z/pE+r",
      "include_colab_link": true
    },
    "kernelspec": {
      "name": "python3",
      "display_name": "Python 3"
    }
  },
  "cells": [
    {
      "cell_type": "markdown",
      "metadata": {
        "id": "view-in-github",
        "colab_type": "text"
      },
      "source": [
        "<a href=\"https://colab.research.google.com/github/fiqhrimuliandaputra/Data-Analyst-Project-Business-Decision-Research/blob/main/Data_Analyst_Project_Business_Decision_Research.ipynb\" target=\"_parent\"><img src=\"https://colab.research.google.com/assets/colab-badge.svg\" alt=\"Open In Colab\"/></a>"
      ]
    },
    {
      "cell_type": "markdown",
      "metadata": {
        "id": "Yh0-4kIjbEXv"
      },
      "source": [
        "Data Analytics Test\r\n",
        "Data analytics test ini berisi 2 bagian, teori dan test coding yang masing-masing terdiri dari:\r\n",
        "\r\n",
        "Teori \r\n",
        "Konsep Dasar Data Analytics: Tes ini dimaksudkan untuk menguji pemahaman member tentang data analytics.\r\n",
        "Coding Test\r\n",
        "Data preparation test: Tes ini dimaksudkan untuk menguji kemampuan member dalam melakukan ETL data.\r\n",
        "Data visualization test: Tes ini dimaksudkan untuk menguji kemampuan member dalam hal visualisasi data.\r\n",
        "Basic Stats Method test: Tes ini dimaksudkan untuk menguji kemampuan member dalam melakukan modeling data menggunakan statistika dasar."
      ]
    },
    {
      "cell_type": "markdown",
      "metadata": {
        "id": "Or5BUBqWbMuj"
      },
      "source": [
        "Pengantar\r\n",
        "Jumat pagi, aku diundang oleh Senja untuk rapat kerja bersama Kroma. Rapat berlangsung cepat, kurang dari satu jam dan aku mendapat kepercayaan dari Kroma untuk menangani proyek market research. Jujur saja, ini tantangan baru buatku. Terlebih pekerjaan ini adalah rikues langsung dari Kroma.\r\n",
        "\r\n",
        " \r\n",
        "\r\n",
        "“Sebelumnya, apakah kamu sudah di-brief oleh Senja terkait proyek ini? Apakah Senja sudah sempat membagikan padamu contoh yang pernah dilakukan senior tim terdahulu?” tanya Kroma saat rapat baru berakhir.\r\n",
        "\r\n",
        " \r\n",
        "\r\n",
        "Aku mengangguk. “Sudah. Saya juga sudah mempelajari cara untuk coding-nya hingga penyajian visualisasi data di slide presentasi maupun dijadikan dashboard.”\r\n",
        "\r\n",
        " \r\n",
        "\r\n",
        "“Baik, sepertinya sudah banyak yang sudah kamu pelajari di sini bersama Senja. Jadi, sudah siap untuk menangani proyek yang tadi saya sebutkan di rapat bukan? Saya ingin kamu melakukan churn analysis terhadap produk di salah satu cabang kita. Harapan saya adalah kamu bisa memberikan rekomendasi dan strategi untuk menurunkan churn dari pelanggan kita,” tukas Kroma seakan menguji kesiapanku.\r\n",
        "\r\n",
        " \r\n",
        "\r\n",
        "“Pasti akan saya kerjakan dan berikan yang terbaik,” jawabku mantap.\r\n",
        "\r\n",
        " "
      ]
    },
    {
      "cell_type": "markdown",
      "metadata": {
        "id": "vBWm2dOdbTYa"
      },
      "source": [
        "Skill bagi Data Analyst\r\n",
        "Skill apakah yang dibutuhkan oleh seorang data analyst?\r\n",
        "\r\n",
        " Business Understanding\r\n",
        " Data Cleansing and Algorithm skills\r\n",
        " Data Storytelling and Visualization\r\n",
        " Semua benar"
      ]
    },
    {
      "cell_type": "markdown",
      "metadata": {
        "id": "-JJ4AO7NbaCW"
      },
      "source": [
        "Market Research and Recommendation and Visualization Technique for Business Decision Making - Part 1\r\n",
        "“Aksara, tadi saya forward studi kasus untuk proyek market research dari Kroma. Sudah masuk?” tanya Senja padaku begitu aku sampai di meja.\r\n",
        "\r\n",
        " \r\n",
        "\r\n",
        "“Iya, notifikasinya sudah masuk. Segera kukerjakan ya.”\r\n",
        "\r\n",
        " \r\n",
        "\r\n",
        "Aku pun membuka isi email yang dimaksud:\r\n",
        "\r\n",
        " \r\n",
        "\r\n",
        "DQLab sport center adalah toko yang menjual berbagai kebutuhan olahraga seperti Jaket, Baju, Tas, dan Sepatu. Toko ini mulai berjualan sejak tahun 2013, sehingga sudah memiliki pelanggan tetap sejak lama, dan tetap berusaha untuk mendapatkan pelanggan baru sampai saat ini.\r\n",
        "\r\n",
        " \r\n",
        "\r\n",
        "Di awal tahun 2019,   manajer toko tersebut merekrut junior DA untuk membantu  memecahkan masalah yang ada di tokonya, yaitu menurunnya pelanggan yang membeli kembali ke tokonya.  Junior DA tersebut pun diberi kepercayaan mengolah data transaksi toko tersebut. Manajer toko mendefinisikan bahwa customer termasuk sudah bukan disebut pelanggan lagi (churn) ketika dia sudah tidak bertransaksi ke tokonya lagi sampai dengan 6 bulan terakhir dari update data terakhir yang tersedia.  \r\n",
        "\r\n",
        "Manajer toko pun memberikan data transaksi dari tahun 2013 sampai dengan 2019 dalam bentuk csv (comma separated value) dengan data_retail.csv dengan jumlah baris 100.000 baris data.\r\n",
        "\r\n",
        "Berikut tampilan datanya:\r\n",
        "\r\n",
        "\r\n",
        "\r\n",
        " \r\n",
        "\r\n",
        "Field yang ada pada data tersebut antara lain:\r\n",
        "\r\n",
        "No\r\n",
        "Row_Num\r\n",
        "Customer_ID\r\n",
        "Product\r\n",
        "First_Transaction\r\n",
        "Last_Transaction\r\n",
        "Average_Transaction_Amount\r\n",
        "Count_Transaction"
      ]
    },
    {
      "cell_type": "markdown",
      "metadata": {
        "id": "ajQfqf5jbguN"
      },
      "source": [
        "Market Research and Recommendation and Visualization Technique for Business Decision Making - Part 2\r\n",
        "“Sudah kamu baca?” tanya Senja lagi.\r\n",
        "\r\n",
        "Aku mengangguk seraya menyimak kembali isi studi kasus yang perlu kudapatkan solusinya.  \r\n",
        "\r\n",
        "“Jadi, manajer toko dan junior DA di salah satu cabang kita minta bantuan kamu untuk mengurusi riset pasar mereka dengan data dan persoalan tadi. Ada baiknya sembari kamu mengerjakan, buat laporan kerjamu langkah per langkah agar bisa diketahui proses analisis datanya untuk mengatasi kasus ini.”\r\n",
        "\r\n",
        "“Siap!” Dengan saran dari Senja, aku pun membuat catatan dari awal pengerjaan hingga selesai agar lebih sistematis untuk dilaporkan pada Kroma nanti, seperti ini:\r\n",
        "\r\n",
        "Data preparation test\r\n",
        "Importing data: Melakukan import data_retail.csv ke python environment.\r\n",
        "Cleansing data: Melakukan pembersihan dan modifikasi data sehingga siap digunakan untuk analisis lebih lanjut.\r\n",
        "Data visualization test: Mendapatkan insight dari hasil visualisasi yang telah dibuat.\r\n",
        "Basic stats method test: Mendapatkan insight dari model dan evaluasi model yang sudah dibuat dan diuji."
      ]
    },
    {
      "cell_type": "markdown",
      "metadata": {
        "id": "QCYZwkBpblo7"
      },
      "source": [
        "Importing Data dan Inspection\r\n",
        "Importlah dataset dari https://dqlab-dataset.s3-ap-southeast-1.amazonaws.com/data_retail.csv dan kemudian inspeksilah dataset tersebut dengan\r\n",
        "\r\n",
        "mencetak lima data teratas saja,\r\n",
        "mencetak info dataset.\r\n",
        "Berikut datasetnya yang dibukakan dengan menggunakan Text Editor:\r\n",
        "\r\n",
        "\r\n",
        "\r\n",
        " \r\n",
        "\r\n",
        "Apa yang dapat terpikirkan terkait dataset yang telah diimport dan diinspeksi?\r\n",
        "\r\n",
        " "
      ]
    },
    {
      "cell_type": "code",
      "metadata": {
        "id": "dccd0k-_Y5al"
      },
      "source": [
        ""
      ],
      "execution_count": null,
      "outputs": []
    }
  ]
}