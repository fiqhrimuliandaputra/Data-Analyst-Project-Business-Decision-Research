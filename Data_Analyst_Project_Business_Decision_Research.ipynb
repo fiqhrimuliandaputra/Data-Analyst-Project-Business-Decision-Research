{
  "nbformat": 4,
  "nbformat_minor": 0,
  "metadata": {
    "colab": {
      "name": "Data Analyst Project: Business Decision Research.ipynb",
      "provenance": [],
      "collapsed_sections": [],
      "authorship_tag": "ABX9TyNjDcGRoa66GNWoo6ioKeTo",
      "include_colab_link": true
    },
    "kernelspec": {
      "name": "python3",
      "display_name": "Python 3"
    }
  },
  "cells": [
    {
      "cell_type": "markdown",
      "metadata": {
        "id": "view-in-github",
        "colab_type": "text"
      },
      "source": [
        "<a href=\"https://colab.research.google.com/github/fiqhrimuliandaputra/Data-Analyst-Project-Business-Decision-Research/blob/main/Data_Analyst_Project_Business_Decision_Research.ipynb\" target=\"_parent\"><img src=\"https://colab.research.google.com/assets/colab-badge.svg\" alt=\"Open In Colab\"/></a>"
      ]
    },
    {
      "cell_type": "code",
      "metadata": {
        "id": "dccd0k-_Y5al"
      },
      "source": [
        "cc"
      ],
      "execution_count": null,
      "outputs": []
    }
  ]
}